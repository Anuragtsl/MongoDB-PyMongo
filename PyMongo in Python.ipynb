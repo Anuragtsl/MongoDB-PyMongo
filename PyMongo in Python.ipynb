{
 "cells": [
  {
   "cell_type": "markdown",
   "metadata": {},
   "source": [
    "# MongoDB\n",
    "\n",
    "MongoDB is a document based database with a dynamic data schema. The JavaScript Object Notation (JSON) that it supports is a natural fit for working with objects in modern programming languages like JavaScript, Python and others. This provides an alternative to more traditional Relational Database Management Systems (RDBMS) such as SQL. MongoDB is an example of a NoSQL databases. These databases often use collections of documents instead of the tables used in RDBMS. These databases support dynamic database schemas making them responsive to changes in the structure of data."
   ]
  },
  {
   "cell_type": "markdown",
   "metadata": {},
   "source": [
    "## Getting started\n",
    "\n",
    "Pymongo is a Python driver for MongoDB allowing you to interact with Mongo databases using Python. You first need to have installed MongoDB on your system. If you haven’t already done so, you can read how do that here: https://docs.mongodb.com/manual/installation/"
   ]
  },
  {
   "cell_type": "code",
   "execution_count": 1,
   "metadata": {},
   "outputs": [],
   "source": [
    "import pymongo"
   ]
  },
  {
   "cell_type": "markdown",
   "metadata": {},
   "source": [
    "**Connect to a Mongo client. This connects on the default host and port**"
   ]
  },
  {
   "cell_type": "code",
   "execution_count": 7,
   "metadata": {},
   "outputs": [],
   "source": [
    "client = pymongo.MongoClient('mongodb://localhost:27017/')"
   ]
  },
  {
   "cell_type": "markdown",
   "metadata": {},
   "source": [
    "**create a database to store some data.**"
   ]
  },
  {
   "cell_type": "code",
   "execution_count": 8,
   "metadata": {},
   "outputs": [],
   "source": [
    "db = client['med_data']"
   ]
  },
  {
   "cell_type": "code",
   "execution_count": 9,
   "metadata": {},
   "outputs": [],
   "source": [
    "my_collection = db['patient_data']"
   ]
  },
  {
   "cell_type": "code",
   "execution_count": 10,
   "metadata": {},
   "outputs": [],
   "source": [
    "patient_record = {\n",
    "    \"Name\":\"Monty Skinner\",\n",
    "    \"Age\":87,\n",
    "    \"Sex\":\"F\",\n",
    "    \"Blood pressure\": [{\"sys\":156},{\"dia\":82}],\n",
    "    \"Heart rate\":82\n",
    "}"
   ]
  },
  {
   "cell_type": "markdown",
   "metadata": {},
   "source": [
    "## Inserting data"
   ]
  },
  {
   "cell_type": "code",
   "execution_count": 12,
   "metadata": {},
   "outputs": [
    {
     "data": {
      "text/plain": [
       "<pymongo.results.InsertOneResult at 0x22822c81788>"
      ]
     },
     "execution_count": 12,
     "metadata": {},
     "output_type": "execute_result"
    }
   ],
   "source": [
    "my_collection.insert_one(patient_record)"
   ]
  },
  {
   "cell_type": "markdown",
   "metadata": {},
   "source": [
    "**If not working --> check if your mongodb_server is running or not in services(search \"Services\" in windows), if not running then start it and all set!**"
   ]
  },
  {
   "cell_type": "code",
   "execution_count": 13,
   "metadata": {},
   "outputs": [
    {
     "name": "stdout",
     "output_type": "stream",
     "text": [
      "{'_id': ObjectId('62a571c6b57d29e1a294a1ce'), 'Name': 'Monty Skinner', 'Age': 87, 'Sex': 'F', 'Blood pressure': [{'sys': 156}, {'dia': 82}], 'Heart rate': 82}\n"
     ]
    }
   ],
   "source": [
    "for item in my_collection.find():\n",
    "    print(item)"
   ]
  },
  {
   "cell_type": "code",
   "execution_count": 14,
   "metadata": {},
   "outputs": [
    {
     "name": "stdout",
     "output_type": "stream",
     "text": [
      "{'Age': 87,\n",
      " 'Blood pressure': [{'sys': 156}, {'dia': 82}],\n",
      " 'Heart rate': 82,\n",
      " 'Name': 'Monty Skinner',\n",
      " 'Sex': 'F',\n",
      " '_id': ObjectId('62a571c6b57d29e1a294a1ce')}\n"
     ]
    }
   ],
   "source": [
    "from pprint import pprint\n",
    "\n",
    "for item in my_collection.find():\n",
    "    pprint(item)"
   ]
  },
  {
   "cell_type": "code",
   "execution_count": 15,
   "metadata": {},
   "outputs": [],
   "source": [
    "patient_records = [\n",
    "    {\n",
    "        \"Name\":\"Adam Boss\",\n",
    "        \"Age\":55,\n",
    "        \"Sex\":\"M\",\n",
    "        \"Blood pressure\":[{\"sys\":132},{\"dia\":73}],\n",
    "        \"Heart rate\":73\n",
    "    },\n",
    "    {\n",
    "        \"Name\": \"Darren Sanders\",\n",
    "        \"Age\": 34,\n",
    "        \"Sex\": \"M\",\n",
    "        \"Blood pressure\": [{\"sys\": 120}, {\"dia\": 70}],\n",
    "        \"Heart rate\": 67\n",
    "     },\n",
    "     {\n",
    "        \"Name\": \"Sally-Ann Joyce\",\n",
    "        \"Age\": 19,\n",
    "        \"Sex\": \"F\",\n",
    "        \"Blood pressure\": [{\"sys\": 121}, {\"dia\": 72}],\n",
    "        \"Heart rate\": 67\n",
    "     }\n",
    "]"
   ]
  },
  {
   "cell_type": "code",
   "execution_count": 16,
   "metadata": {},
   "outputs": [
    {
     "data": {
      "text/plain": [
       "<pymongo.results.InsertManyResult at 0x22822f7ba88>"
      ]
     },
     "execution_count": 16,
     "metadata": {},
     "output_type": "execute_result"
    }
   ],
   "source": [
    "my_collection.insert_many(patient_records)"
   ]
  },
  {
   "cell_type": "markdown",
   "metadata": {},
   "source": [
    "## Updating data"
   ]
  },
  {
   "cell_type": "code",
   "execution_count": 17,
   "metadata": {},
   "outputs": [
    {
     "data": {
      "text/plain": [
       "<pymongo.results.UpdateResult at 0x22822c23c88>"
      ]
     },
     "execution_count": 17,
     "metadata": {},
     "output_type": "execute_result"
    }
   ],
   "source": [
    "my_collection.update_one({\"Name\":\"Darren Sanders\"},{\"$set\":{\"Heart rate\":88}})"
   ]
  },
  {
   "cell_type": "markdown",
   "metadata": {},
   "source": [
    "## Embedding or linking data\n",
    "\n",
    "We can nest data by embedding it. Consider that we want to store some medical test results for a patient. This could include some blood test results and an ECG/EKG image for some investigations for a heart attack and some blood tests, including:\n",
    "\n",
    "* Creatine Kinase (CK)\n",
    "* Troponin I (TROP)\n",
    "* Aspartate aminotransferase (AST)\n",
    "\n",
    "We can start by creating a field called “test results” which contains an array."
   ]
  },
  {
   "cell_type": "code",
   "execution_count": 105,
   "metadata": {},
   "outputs": [],
   "source": [
    "patient_record = {\n",
    "    \"Hospital number\": \"3432543\",\n",
    "    \"Name\": \"Karen Baker\",\n",
    "    \"Age\": 45,\n",
    "    \"Sex\": \"F\",\n",
    "    \"Blood pressure\": [{\"sys\": 126}, {\"dia\": 72}],\n",
    "    \"Heart rate\": 78,\n",
    "    \"Test results\" :[\n",
    "        {\n",
    "            \"ECG\":\"\\ecg\\scan001.png\"\n",
    "        },\n",
    "        {\n",
    "            \"BIOCHEM\":[{\"AST\":37},{\"CK\":180},{\"TROPT\":0.03}]\n",
    "        }\n",
    "    ]\n",
    "}"
   ]
  },
  {
   "cell_type": "code",
   "execution_count": 20,
   "metadata": {},
   "outputs": [
    {
     "data": {
      "text/plain": [
       "<pymongo.results.InsertOneResult at 0x22822276648>"
      ]
     },
     "execution_count": 20,
     "metadata": {},
     "output_type": "execute_result"
    }
   ],
   "source": [
    "my_collection.insert_one(patient_record)"
   ]
  },
  {
   "cell_type": "markdown",
   "metadata": {},
   "source": [
    "**An alternative to embedding data in this way is to instead link to it. Linking data is also called referencing. This involves storing data in a different collection and referencing it by id. Deciding whether or not to link or embed data is dependent on certain considerations, such as:**\n",
    "\n",
    "* How often you need to access the embedded information?\n",
    "* Is the data queried using the embedded information?\n",
    "* Is the embedded data subject to frequent change?\n",
    "* How often do you need to access the embedded data without the other information it’s embedded in?\n",
    "* Depending on the answer to these questions, you may want to link to the data instead. \n",
    "\n",
    "*Consider the following example. You may want to store some information about what drugs have been prescribed for a given patient. You could embed this information, but what if you also wanted to store more generic information about the medication also. Here you could have a separate collection with such information that you could link to.*"
   ]
  },
  {
   "cell_type": "code",
   "execution_count": 21,
   "metadata": {},
   "outputs": [],
   "source": [
    "my_medication = db['medication']"
   ]
  },
  {
   "cell_type": "code",
   "execution_count": 22,
   "metadata": {},
   "outputs": [],
   "source": [
    "medication_data = [\n",
    " {\n",
    "   \"Drug name\": \"Omeprazole\",\n",
    "   \"Type\": \"Proton pump inhibitor\",\n",
    "   \"Oral dose\": \"20mg once daily\",\n",
    "   \"IV dose\": \"40mg\",\n",
    "   \"Net price (GBP)\": 4.29\n",
    " },\n",
    " {\n",
    "   \"Drug name\": \"Amitriptyline\",\n",
    "   \"Type\": \"Tricyclic antidepressant\",\n",
    "   \"Oral dose\": \"30–75mg daily\",\n",
    "   \"IV dose\": \"N/A\",\n",
    "   \"Net price (GBP)\": 1.32\n",
    " }\n",
    "]"
   ]
  },
  {
   "cell_type": "code",
   "execution_count": 23,
   "metadata": {},
   "outputs": [
    {
     "data": {
      "text/plain": [
       "<pymongo.results.InsertManyResult at 0x22822eb6f48>"
      ]
     },
     "execution_count": 23,
     "metadata": {},
     "output_type": "execute_result"
    }
   ],
   "source": [
    "my_medication.insert_many(medication_data)"
   ]
  },
  {
   "cell_type": "code",
   "execution_count": 25,
   "metadata": {},
   "outputs": [
    {
     "name": "stdout",
     "output_type": "stream",
     "text": [
      "{'Drug name': 'Omeprazole',\n",
      " 'IV dose': '40mg',\n",
      " 'Net price (GBP)': 4.29,\n",
      " 'Oral dose': '20mg once daily',\n",
      " 'Type': 'Proton pump inhibitor',\n",
      " '_id': ObjectId('62a57631b57d29e1a294a1d3')}\n",
      "{'Drug name': 'Amitriptyline',\n",
      " 'IV dose': 'N/A',\n",
      " 'Net price (GBP)': 1.32,\n",
      " 'Oral dose': '30–75mg daily',\n",
      " 'Type': 'Tricyclic antidepressant',\n",
      " '_id': ObjectId('62a57631b57d29e1a294a1d4')}\n"
     ]
    }
   ],
   "source": [
    "for item in my_medication.find():\n",
    "    pprint(item)"
   ]
  },
  {
   "cell_type": "markdown",
   "metadata": {},
   "source": [
    "**We can use the id’s and the DBRef function to reference this data in another collection. For example:**"
   ]
  },
  {
   "cell_type": "code",
   "execution_count": 24,
   "metadata": {},
   "outputs": [],
   "source": [
    "from bson.dbref import DBRef"
   ]
  },
  {
   "cell_type": "code",
   "execution_count": 26,
   "metadata": {},
   "outputs": [],
   "source": [
    "patient_records = [\n",
    " {\n",
    "   \"Hospital number\": \"9956734\",\n",
    "   \"Name\": \"Adam Blythe\",\n",
    "   \"Age\": 55,\n",
    "   \"Sex\": \"M\",\n",
    "   \"Prescribed medications\": [\n",
    "     DBRef(\"medication_data\", \"62a57631b57d29e1a294a1d3\"),\n",
    "     DBRef(\"medication_data\", \"62a57631b57d29e1a294a1d4\")\n",
    "   ]\n",
    " },\n",
    " {\n",
    "   \"Hospital number\": \"4543673\",\n",
    "   \"Name\": \"Darren Sanders\",\n",
    "   \"Age\": 34,\n",
    "   \"Sex\": \"M\",\n",
    "   \"Prescribed medications\": [\n",
    "     DBRef(\"diagnosis_data\", \"62a57631b57d29e1a294a1d4\")\n",
    "   ]\n",
    " }\n",
    "]"
   ]
  },
  {
   "cell_type": "code",
   "execution_count": 29,
   "metadata": {},
   "outputs": [
    {
     "data": {
      "text/plain": [
       "<pymongo.results.InsertManyResult at 0x22822855288>"
      ]
     },
     "execution_count": 29,
     "metadata": {},
     "output_type": "execute_result"
    }
   ],
   "source": [
    "my_collection.insert_many(patient_records)"
   ]
  },
  {
   "cell_type": "markdown",
   "metadata": {},
   "source": [
    "## Querying data\n",
    "\n",
    "There are several methods for querying data. All of the methods use the find() function. A query can be provided followed by the field or fields you wish to return in the form:\n",
    "\n",
    "**collection.find({ query }, { field(s) })**"
   ]
  },
  {
   "cell_type": "code",
   "execution_count": 35,
   "metadata": {},
   "outputs": [
    {
     "name": "stdout",
     "output_type": "stream",
     "text": [
      "{'Age': 34,\n",
      " 'Blood pressure': [{'sys': 120}, {'dia': 70}],\n",
      " 'Heart rate': 88,\n",
      " 'Name': 'Darren Sanders',\n",
      " 'Sex': 'M',\n",
      " '_id': ObjectId('62a5739cb57d29e1a294a1d0')}\n"
     ]
    }
   ],
   "source": [
    "pprint(my_collection.find({\"Name\":\"Darren Sanders\"})[0])"
   ]
  },
  {
   "cell_type": "code",
   "execution_count": 36,
   "metadata": {},
   "outputs": [
    {
     "name": "stdout",
     "output_type": "stream",
     "text": [
      "{'Age': 34,\n",
      " 'Blood pressure': [{'sys': 120}, {'dia': 70}],\n",
      " 'Heart rate': 88,\n",
      " 'Name': 'Darren Sanders',\n",
      " 'Sex': 'M',\n",
      " '_id': ObjectId('62a5739cb57d29e1a294a1d0')}\n",
      "{'Age': 34,\n",
      " 'Hospital number': '4543673',\n",
      " 'Name': 'Darren Sanders',\n",
      " 'Prescribed medications': [DBRef('diagnosis_data', '62a57631b57d29e1a294a1d4')],\n",
      " 'Sex': 'M',\n",
      " '_id': ObjectId('62a5775bb57d29e1a294a1d6')}\n"
     ]
    }
   ],
   "source": [
    "query = {\"Name\": \"Darren Sanders\"}\n",
    "doc = my_collection.find(query)\n",
    "for i in doc:\n",
    "  pprint(i)"
   ]
  },
  {
   "attachments": {
    "a.png": {
     "image/png": "[encoded data removed]"
    }
   },
   "cell_type": "markdown",
   "metadata": {},
   "source": [
    "**There are many such comparison operators available, including:**\n",
    "![a.png](attachment:a.png)"
   ]
  },
  {
   "cell_type": "code",
   "execution_count": 37,
   "metadata": {},
   "outputs": [
    {
     "name": "stdout",
     "output_type": "stream",
     "text": [
      "{'Name': 'Monty Skinner', '_id': ObjectId('62a571c6b57d29e1a294a1ce')}\n",
      "{'Name': 'Adam Boss', '_id': ObjectId('62a5739cb57d29e1a294a1cf')}\n",
      "{'Name': 'Darren Sanders', '_id': ObjectId('62a5739cb57d29e1a294a1d0')}\n",
      "{'Name': 'Karen Baker', '_id': ObjectId('62a575f5b57d29e1a294a1d2')}\n"
     ]
    }
   ],
   "source": [
    "for heart_rate in my_collection.find({\"Heart rate\":{\"$gt\":70}},{\"Name\"}):\n",
    "    pprint(heart_rate)"
   ]
  },
  {
   "attachments": {
    "b.png": {
     "image/png": "[encoded data removed]"
    }
   },
   "cell_type": "markdown",
   "metadata": {},
   "source": [
    "**Logical operators include:**\n",
    "![b.png](attachment:b.png)"
   ]
  },
  {
   "cell_type": "markdown",
   "metadata": {},
   "source": [
    "**You might be wondering how we find data that’s contained in arrays. This can be done by using a period (dot). For example you may recall that we stored the patients’ systolic and diastolic blood pressure like so:**"
   ]
  },
  {
   "cell_type": "code",
   "execution_count": 46,
   "metadata": {},
   "outputs": [
    {
     "name": "stdout",
     "output_type": "stream",
     "text": [
      "{'Age': 55,\n",
      " 'Blood pressure': [{'sys': 132}, {'dia': 73}],\n",
      " 'Heart rate': 73,\n",
      " 'Name': 'Adam Boss',\n",
      " 'Sex': 'M',\n",
      " '_id': ObjectId('62a5739cb57d29e1a294a1cf')}\n",
      "{'Age': 34,\n",
      " 'Blood pressure': [{'sys': 120}, {'dia': 70}],\n",
      " 'Heart rate': 88,\n",
      " 'Name': 'Darren Sanders',\n",
      " 'Sex': 'M',\n",
      " '_id': ObjectId('62a5739cb57d29e1a294a1d0')}\n",
      "{'Age': 45,\n",
      " 'Blood pressure': [{'sys': 126}, {'dia': 72}],\n",
      " 'Heart rate': 78,\n",
      " 'Hospital number': '3432543',\n",
      " 'Name': 'Karen Baker',\n",
      " 'Sex': 'F',\n",
      " 'Test results': [{'ECG': '\\\\ecg\\\\scan001.png'},\n",
      "                  {'BIOCHEM': [{'AST': 37}, {'CK': 180}, {'TROPT': 0.03}]}],\n",
      " '_id': ObjectId('62a575f5b57d29e1a294a1d2')}\n"
     ]
    }
   ],
   "source": [
    "results = my_collection.find({\n",
    " \"$and\" : [\n",
    "     {\n",
    "         \"Heart rate\": {\"$gte\": 70}\n",
    "     },\n",
    "     {\n",
    "         \"Age\": {\"$lte\": 55}\n",
    "     }\n",
    "   ]\n",
    "})\n",
    "\n",
    "for result in results:\n",
    "    pprint(result)"
   ]
  },
  {
   "cell_type": "code",
   "execution_count": 49,
   "metadata": {},
   "outputs": [
    {
     "name": "stdout",
     "output_type": "stream",
     "text": [
      "{'Age': 34,\n",
      " 'Blood pressure': [{'sys': 120}, {'dia': 70}],\n",
      " 'Heart rate': 88,\n",
      " 'Name': 'Darren Sanders',\n",
      " 'Sex': 'M',\n",
      " '_id': ObjectId('62a5739cb57d29e1a294a1d0')}\n",
      "{'Age': 19,\n",
      " 'Blood pressure': [{'sys': 121}, {'dia': 72}],\n",
      " 'Heart rate': 67,\n",
      " 'Name': 'Sally-Ann Joyce',\n",
      " 'Sex': 'F',\n",
      " '_id': ObjectId('62a5739cb57d29e1a294a1d1')}\n",
      "{'Age': 45,\n",
      " 'Blood pressure': [{'sys': 126}, {'dia': 72}],\n",
      " 'Heart rate': 78,\n",
      " 'Hospital number': '3432543',\n",
      " 'Name': 'Karen Baker',\n",
      " 'Sex': 'F',\n",
      " 'Test results': [{'ECG': '\\\\ecg\\\\scan001.png'},\n",
      "                  {'BIOCHEM': [{'AST': 37}, {'CK': 180}, {'TROPT': 0.03}]}],\n",
      " '_id': ObjectId('62a575f5b57d29e1a294a1d2')}\n"
     ]
    }
   ],
   "source": [
    "for normal in my_collection.find({\"Blood pressure.sys\": {\"$lt\": 130}}):\n",
    "    pprint(normal)"
   ]
  },
  {
   "cell_type": "markdown",
   "metadata": {},
   "source": [
    "### Working with existing data\n",
    "\n",
    "One of the great things about MongoDB is that it is really straight forward to load JSON files and add them to collections. For example if we had some JSON data stored in a JSON file, we could use the json library to read in this data and add it to a MongoDB collection:\n",
    "\n",
    "* import json\n",
    "* with open('data_file.json') as f:\n",
    "      file_data = json.load(f)\n",
    "* my_collection.insert_many(file_data)**"
   ]
  },
  {
   "cell_type": "code",
   "execution_count": 51,
   "metadata": {},
   "outputs": [
    {
     "name": "stdout",
     "output_type": "stream",
     "text": [
      "{'Age': 87,\n",
      " 'Blood pressure': [{'sys': 156}, {'dia': 82}],\n",
      " 'Heart rate': 82,\n",
      " 'Name': 'Monty Skinner',\n",
      " 'Sex': 'F',\n",
      " '_id': ObjectId('62a571c6b57d29e1a294a1ce')}\n",
      "{'Age': 55,\n",
      " 'Blood pressure': [{'sys': 132}, {'dia': 73}],\n",
      " 'Heart rate': 73,\n",
      " 'Name': 'Adam Boss',\n",
      " 'Sex': 'M',\n",
      " '_id': ObjectId('62a5739cb57d29e1a294a1cf')}\n",
      "{'Age': 34,\n",
      " 'Blood pressure': [{'sys': 120}, {'dia': 70}],\n",
      " 'Heart rate': 88,\n",
      " 'Name': 'Darren Sanders',\n",
      " 'Sex': 'M',\n",
      " '_id': ObjectId('62a5739cb57d29e1a294a1d0')}\n",
      "{'Age': 19,\n",
      " 'Blood pressure': [{'sys': 121}, {'dia': 72}],\n",
      " 'Heart rate': 67,\n",
      " 'Name': 'Sally-Ann Joyce',\n",
      " 'Sex': 'F',\n",
      " '_id': ObjectId('62a5739cb57d29e1a294a1d1')}\n",
      "{'Age': 45,\n",
      " 'Blood pressure': [{'sys': 126}, {'dia': 72}],\n",
      " 'Heart rate': 78,\n",
      " 'Hospital number': '3432543',\n",
      " 'Name': 'Karen Baker',\n",
      " 'Sex': 'F',\n",
      " 'Test results': [{'ECG': '\\\\ecg\\\\scan001.png'},\n",
      "                  {'BIOCHEM': [{'AST': 37}, {'CK': 180}, {'TROPT': 0.03}]}],\n",
      " '_id': ObjectId('62a575f5b57d29e1a294a1d2')}\n"
     ]
    }
   ],
   "source": [
    "for item in my_collection.find().limit(5):\n",
    "    pprint(item)"
   ]
  },
  {
   "cell_type": "code",
   "execution_count": 57,
   "metadata": {},
   "outputs": [
    {
     "data": {
      "text/plain": [
       "7"
      ]
     },
     "execution_count": 57,
     "metadata": {},
     "output_type": "execute_result"
    }
   ],
   "source": [
    "my_collection.count_documents({})"
   ]
  },
  {
   "cell_type": "markdown",
   "metadata": {},
   "source": [
    "# Aggregation\n",
    "\n",
    "Often when working with data we don’t just want to extract subsets of data using queries, we instead want to produce new information from the existing data. This often involves carrying out various calculations like finding the average or sum of some value. For example the average wage of employees.\n",
    "\n",
    "Let’s look at a brief example using a sample dataset containing details of restaurant data (the data can be found here: https://docs.atlas.mongodb.com/sample-data/available-sample-datasets/)."
   ]
  },
  {
   "attachments": {
    "c.png": {
     "image/png": "[encoded data removed]"
    }
   },
   "cell_type": "markdown",
   "metadata": {},
   "source": [
    "**An example document can be seen below:**\n",
    "\n",
    "![c.png](attachment:c.png)"
   ]
  },
  {
   "cell_type": "markdown",
   "metadata": {},
   "source": [
    "**You can see details of the restaurant address, which borough it is in, the type of cuisine, name, id and details of grades awarded with associated scores. Let’s say we wanted to compute the average scores of the restaurants. To achieve this we can use the aggregate function.**"
   ]
  },
  {
   "cell_type": "code",
   "execution_count": 101,
   "metadata": {},
   "outputs": [],
   "source": [
    "#result = my_collection.aggregate(\n",
    "#  [\n",
    "#     {\"$unwind\": \"$grades\"},\n",
    "#     {\"$match”: {}}, \n",
    "#     {\"$group\": {\"_id\": \"$name\", \"Avg grade\": {\"$avg\": \"$grades.score\"}}}\n",
    "#  ]\n",
    "# )"
   ]
  },
  {
   "cell_type": "markdown",
   "metadata": {},
   "source": [
    "**Explaination:** We pass an array to the aggregate function. The **unwind** parameter is used to deconstruct the grades array in order to output a document for each element. Next we use the **match** parameter including everything (by using open and closing braces). We could filter further here by providing additional criteria. Next we use the **group** parameter to group the data that we want to apply the computation to. Finally we create new key called “Avg grade” and apply the **avg** (average) parameter to the grades scores referencing grades followed by a dot and the score key."
   ]
  },
  {
   "cell_type": "markdown",
   "metadata": {},
   "source": [
    "**Producing the following output (shortened for brevity):**\n",
    "\n",
    "* {'Avg grade': 15.2, '_id': 'Red Star Restaurant'}\n",
    "* {'Avg grade': 13.0, '_id': 'Weather Up'}\n",
    "* {'Avg grade': 9.4, '_id': 'La Nueva Playitas'}\n",
    "* {'Avg grade': 13.0, '_id': “Marcella’S Pizzeria & Catering”}\n",
    "* {'Avg grade': 9.0, '_id': 'Hot Wok'}\n",
    "* {'Avg grade': 9.333333333333334, '_id': '99 Favor Taste'}\n",
    "* {'Avg grade': 18.0, '_id': 'Flavors Corner'}\n",
    "* {'Avg grade': 10.666666666666666, '_id': 'Corona Restaurant'}\n",
    "* {'Avg grade': 9.0, '_id': 'Mila Cafe'}\n",
    "* {'Avg grade': 8.0, '_id': 'Circle Line Manhattan'}\n",
    "* {'Avg grade': 15.6, '_id': “The Old Time Vincent’S”}\n",
    "* {'Avg grade': 10.833333333333334, '_id': 'Riko'}\n",
    "* {'Avg grade': 10.0, '_id': 'Fresh Tortillas'}\n",
    "* {'Avg grade': 10.333333333333334, '_id': 'Le Village'}\n",
    "* {'Avg grade': 13.2, '_id': 'Ruay Thai Restaurant'}\n",
    "* {'Avg grade': 12.0, '_id': 'Lechonera Don Pancholo'}\n",
    "* {'Avg grade': 11.0, '_id': 'Pepe Rosso Social'}\n",
    "* . . ."
   ]
  },
  {
   "cell_type": "code",
   "execution_count": 102,
   "metadata": {},
   "outputs": [],
   "source": [
    "# There are many other parameters that can be used for common computations such as $sum, $min, $max etc.\n",
    "\n",
    "# result = my_collection.aggregate(\n",
    "#  [\n",
    "#      {\"$unwind\": \"$grades\"},\n",
    "#     {\"$match\": {}}, \n",
    "#      {\"$group\": {\"_id\": \"$name\", \"Avg grade\": {\"$avg\": \"$grades.score\"}}},\n",
    "#      {\"$sort\": {\"Avg grade\": -1}}\n",
    "#  ]\n",
    "# )\n",
    "\n",
    "# We can also add additional functionality as required. For example we might want to sort the returned in ascending or descending order. \n",
    "# We could simply add another line with the sort parameter specifying which field to sort by. 1 (ascending) or -1 (descending)."
   ]
  },
  {
   "attachments": {
    "d.png": {
     "image/png": "[encoded data removed]"
    }
   },
   "cell_type": "markdown",
   "metadata": {},
   "source": [
    "# Using MongoDB in software projects and for data science\n",
    "\n",
    "*One of the main advantages of MongoDB using the JSON format is the interoperability that this provides with programming languages that use a similar format. This makes working with data in an application and storing/retrieving it from a database near seamless.*\n",
    "\n",
    "*A better way of integrating a database into code is to use a method such as Object Relational Mapping (ORM), or in the case of MongoDB an Object Document Mapper (ODM).*\n",
    "\n",
    "*This works by translating Python (or some other languages) code into MongoDB statements to retrieve data. This data is then passed back into Python objects. This has the advantage of ensuring that you only need to use one language (e.g. Python) to access and use the database.*\n",
    "![d.png](attachment:d.png)"
   ]
  },
  {
   "cell_type": "markdown",
   "metadata": {},
   "source": [
    "**A good library for doing this is mongoengine. Here we import the library and connect to a Mongo client which we will call odm_patients.**"
   ]
  },
  {
   "cell_type": "code",
   "execution_count": 59,
   "metadata": {
    "scrolled": true
   },
   "outputs": [
    {
     "name": "stdout",
     "output_type": "stream",
     "text": [
      "Collecting mongoengine\n",
      "  Downloading mongoengine-0.24.1-py3-none-any.whl (108 kB)\n",
      "     ------------------------------------- 108.9/108.9 kB 67.9 kB/s eta 0:00:00\n",
      "Requirement already satisfied: pymongo<5.0,>=3.4 in c:\\users\\anurag\\anaconda3\\lib\\site-packages (from mongoengine) (4.1.1)\n",
      "Installing collected packages: mongoengine\n",
      "Successfully installed mongoengine-0.24.1\n"
     ]
    }
   ],
   "source": [
    "!pip install mongoengine"
   ]
  },
  {
   "cell_type": "code",
   "execution_count": 60,
   "metadata": {},
   "outputs": [
    {
     "data": {
      "text/plain": [
       "MongoClient(host=['localhost:27017'], document_class=dict, tz_aware=False, connect=True, read_preference=Primary(), uuidrepresentation=3)"
      ]
     },
     "execution_count": 60,
     "metadata": {},
     "output_type": "execute_result"
    }
   ],
   "source": [
    "from mongoengine import *\n",
    "connect('odm_patients')"
   ]
  },
  {
   "cell_type": "code",
   "execution_count": 61,
   "metadata": {},
   "outputs": [],
   "source": [
    "class Patient(Document):\n",
    "    patient_id = StringField(required=True)\n",
    "    name = StringField()\n",
    "    age = IntField()\n",
    "    sex = StringField(max_length=1)\n",
    "    heart_rate = IntField()"
   ]
  },
  {
   "cell_type": "code",
   "execution_count": 62,
   "metadata": {},
   "outputs": [],
   "source": [
    "maxine_patient = Patient(patient_id = \"342453\", name = \"Maxine Smith\", age = 47, sex = \"F\", heart_rate = 67).save()"
   ]
  },
  {
   "cell_type": "code",
   "execution_count": 63,
   "metadata": {},
   "outputs": [],
   "source": [
    "hamza_patient = Patient(patient_id = \"543243\", name = \"Hamza Khan\", age = 22, sex = \"M\", heart_rate = 73).save()"
   ]
  },
  {
   "cell_type": "code",
   "execution_count": 64,
   "metadata": {},
   "outputs": [
    {
     "name": "stdout",
     "output_type": "stream",
     "text": [
      "Maxine Smith 342453 47\n",
      "Hamza Khan 543243 22\n"
     ]
    }
   ],
   "source": [
    "for patient in Patient.objects:\n",
    "    print(patient.name, patient.patient_id, patient.age)"
   ]
  },
  {
   "cell_type": "markdown",
   "metadata": {},
   "source": [
    "### Apart from integrating Mongo databases into software projects, we can also use this for research and data science/analysis tasks too.\n",
    "\n",
    "*There is an easy way to convert data from a Mongo database into tabular form as a Panda’s dataframe object. Firstly we import the pandas library.*"
   ]
  },
  {
   "cell_type": "code",
   "execution_count": 65,
   "metadata": {},
   "outputs": [],
   "source": [
    "import pandas as pd"
   ]
  },
  {
   "cell_type": "code",
   "execution_count": 68,
   "metadata": {},
   "outputs": [
    {
     "name": "stdout",
     "output_type": "stream",
     "text": [
      "{'Age': 87,\n",
      " 'Blood pressure': [{'sys': 156}, {'dia': 82}],\n",
      " 'Heart rate': 82,\n",
      " 'Name': 'Monty Skinner',\n",
      " 'Sex': 'F',\n",
      " '_id': ObjectId('62a571c6b57d29e1a294a1ce')}\n",
      "{'Age': 55,\n",
      " 'Blood pressure': [{'sys': 132}, {'dia': 73}],\n",
      " 'Heart rate': 73,\n",
      " 'Name': 'Adam Boss',\n",
      " 'Sex': 'M',\n",
      " '_id': ObjectId('62a5739cb57d29e1a294a1cf')}\n",
      "{'Age': 34,\n",
      " 'Blood pressure': [{'sys': 120}, {'dia': 70}],\n",
      " 'Heart rate': 88,\n",
      " 'Name': 'Darren Sanders',\n",
      " 'Sex': 'M',\n",
      " '_id': ObjectId('62a5739cb57d29e1a294a1d0')}\n",
      "{'Age': 19,\n",
      " 'Blood pressure': [{'sys': 121}, {'dia': 72}],\n",
      " 'Heart rate': 67,\n",
      " 'Name': 'Sally-Ann Joyce',\n",
      " 'Sex': 'F',\n",
      " '_id': ObjectId('62a5739cb57d29e1a294a1d1')}\n",
      "{'Age': 45,\n",
      " 'Blood pressure': [{'sys': 126}, {'dia': 72}],\n",
      " 'Heart rate': 78,\n",
      " 'Hospital number': '3432543',\n",
      " 'Name': 'Karen Baker',\n",
      " 'Sex': 'F',\n",
      " 'Test results': [{'ECG': '\\\\ecg\\\\scan001.png'},\n",
      "                  {'BIOCHEM': [{'AST': 37}, {'CK': 180}, {'TROPT': 0.03}]}],\n",
      " '_id': ObjectId('62a575f5b57d29e1a294a1d2')}\n",
      "{'Age': 55,\n",
      " 'Hospital number': '9956734',\n",
      " 'Name': 'Adam Blythe',\n",
      " 'Prescribed medications': [DBRef('medication_data', '62a57631b57d29e1a294a1d3'),\n",
      "                            DBRef('medication_data', '62a57631b57d29e1a294a1d4')],\n",
      " 'Sex': 'M',\n",
      " '_id': ObjectId('62a5775bb57d29e1a294a1d5')}\n",
      "{'Age': 34,\n",
      " 'Hospital number': '4543673',\n",
      " 'Name': 'Darren Sanders',\n",
      " 'Prescribed medications': [DBRef('diagnosis_data', '62a57631b57d29e1a294a1d4')],\n",
      " 'Sex': 'M',\n",
      " '_id': ObjectId('62a5775bb57d29e1a294a1d6')}\n"
     ]
    }
   ],
   "source": [
    "for item in my_collection.find():\n",
    "    pprint(item)"
   ]
  },
  {
   "cell_type": "code",
   "execution_count": 94,
   "metadata": {},
   "outputs": [],
   "source": [
    "extracted_data = my_collection.find({},{\"Name\":True,\"Age\":True,\"Sex\":1,\"Blood pressure\":1,\"Heart rate\":1}) # True = 1 and False = 1"
   ]
  },
  {
   "cell_type": "code",
   "execution_count": 95,
   "metadata": {},
   "outputs": [],
   "source": [
    "patients_data = list(extracted_data)"
   ]
  },
  {
   "cell_type": "code",
   "execution_count": 97,
   "metadata": {},
   "outputs": [],
   "source": [
    "df = pd.DataFrame.from_dict(patients_data)"
   ]
  },
  {
   "cell_type": "code",
   "execution_count": 98,
   "metadata": {},
   "outputs": [
    {
     "data": {
      "text/html": [
       "<div>\n",
       "<style scoped>\n",
       "    .dataframe tbody tr th:only-of-type {\n",
       "        vertical-align: middle;\n",
       "    }\n",
       "\n",
       "    .dataframe tbody tr th {\n",
       "        vertical-align: top;\n",
       "    }\n",
       "\n",
       "    .dataframe thead th {\n",
       "        text-align: right;\n",
       "    }\n",
       "</style>\n",
       "<table border=\"1\" class=\"dataframe\">\n",
       "  <thead>\n",
       "    <tr style=\"text-align: right;\">\n",
       "      <th></th>\n",
       "      <th>_id</th>\n",
       "      <th>Name</th>\n",
       "      <th>Age</th>\n",
       "      <th>Sex</th>\n",
       "      <th>Blood pressure</th>\n",
       "      <th>Heart rate</th>\n",
       "    </tr>\n",
       "  </thead>\n",
       "  <tbody>\n",
       "    <tr>\n",
       "      <th>0</th>\n",
       "      <td>62a571c6b57d29e1a294a1ce</td>\n",
       "      <td>Monty Skinner</td>\n",
       "      <td>87</td>\n",
       "      <td>F</td>\n",
       "      <td>[{'sys': 156}, {'dia': 82}]</td>\n",
       "      <td>82.0</td>\n",
       "    </tr>\n",
       "    <tr>\n",
       "      <th>1</th>\n",
       "      <td>62a5739cb57d29e1a294a1cf</td>\n",
       "      <td>Adam Boss</td>\n",
       "      <td>55</td>\n",
       "      <td>M</td>\n",
       "      <td>[{'sys': 132}, {'dia': 73}]</td>\n",
       "      <td>73.0</td>\n",
       "    </tr>\n",
       "    <tr>\n",
       "      <th>2</th>\n",
       "      <td>62a5739cb57d29e1a294a1d0</td>\n",
       "      <td>Darren Sanders</td>\n",
       "      <td>34</td>\n",
       "      <td>M</td>\n",
       "      <td>[{'sys': 120}, {'dia': 70}]</td>\n",
       "      <td>88.0</td>\n",
       "    </tr>\n",
       "    <tr>\n",
       "      <th>3</th>\n",
       "      <td>62a5739cb57d29e1a294a1d1</td>\n",
       "      <td>Sally-Ann Joyce</td>\n",
       "      <td>19</td>\n",
       "      <td>F</td>\n",
       "      <td>[{'sys': 121}, {'dia': 72}]</td>\n",
       "      <td>67.0</td>\n",
       "    </tr>\n",
       "    <tr>\n",
       "      <th>4</th>\n",
       "      <td>62a575f5b57d29e1a294a1d2</td>\n",
       "      <td>Karen Baker</td>\n",
       "      <td>45</td>\n",
       "      <td>F</td>\n",
       "      <td>[{'sys': 126}, {'dia': 72}]</td>\n",
       "      <td>78.0</td>\n",
       "    </tr>\n",
       "    <tr>\n",
       "      <th>5</th>\n",
       "      <td>62a5775bb57d29e1a294a1d5</td>\n",
       "      <td>Adam Blythe</td>\n",
       "      <td>55</td>\n",
       "      <td>M</td>\n",
       "      <td>NaN</td>\n",
       "      <td>NaN</td>\n",
       "    </tr>\n",
       "    <tr>\n",
       "      <th>6</th>\n",
       "      <td>62a5775bb57d29e1a294a1d6</td>\n",
       "      <td>Darren Sanders</td>\n",
       "      <td>34</td>\n",
       "      <td>M</td>\n",
       "      <td>NaN</td>\n",
       "      <td>NaN</td>\n",
       "    </tr>\n",
       "  </tbody>\n",
       "</table>\n",
       "</div>"
      ],
      "text/plain": [
       "                        _id             Name  Age Sex  \\\n",
       "0  62a571c6b57d29e1a294a1ce    Monty Skinner   87   F   \n",
       "1  62a5739cb57d29e1a294a1cf        Adam Boss   55   M   \n",
       "2  62a5739cb57d29e1a294a1d0   Darren Sanders   34   M   \n",
       "3  62a5739cb57d29e1a294a1d1  Sally-Ann Joyce   19   F   \n",
       "4  62a575f5b57d29e1a294a1d2      Karen Baker   45   F   \n",
       "5  62a5775bb57d29e1a294a1d5      Adam Blythe   55   M   \n",
       "6  62a5775bb57d29e1a294a1d6   Darren Sanders   34   M   \n",
       "\n",
       "                Blood pressure  Heart rate  \n",
       "0  [{'sys': 156}, {'dia': 82}]        82.0  \n",
       "1  [{'sys': 132}, {'dia': 73}]        73.0  \n",
       "2  [{'sys': 120}, {'dia': 70}]        88.0  \n",
       "3  [{'sys': 121}, {'dia': 72}]        67.0  \n",
       "4  [{'sys': 126}, {'dia': 72}]        78.0  \n",
       "5                          NaN         NaN  \n",
       "6                          NaN         NaN  "
      ]
     },
     "execution_count": 98,
     "metadata": {},
     "output_type": "execute_result"
    }
   ],
   "source": [
    "df"
   ]
  },
  {
   "cell_type": "markdown",
   "metadata": {},
   "source": [
    "# Conclusion\n",
    "\n",
    "In summary, MongoDB is a powerful and scalable database that is very useful when the data schema is prone to frequent change. This lends itself to integration with modern software systems easily and can also be used as part of a data analysis pipeline when analysing data in JSON format, such as some mobile app data or Twitter data. MongoDB is one of the most popular NoSQL databases and an awareness of what it is and how it works is a must for software engineers and data scientists."
   ]
  },
  {
   "cell_type": "markdown",
   "metadata": {},
   "source": [
    "# The END!"
   ]
  }
 ],
 "metadata": {
  "kernelspec": {
   "display_name": "Python 3",
   "language": "python",
   "name": "python3"
  },
  "language_info": {
   "codemirror_mode": {
    "name": "ipython",
    "version": 3
   },
   "file_extension": ".py",
   "mimetype": "text/x-python",
   "name": "python",
   "nbconvert_exporter": "python",
   "pygments_lexer": "ipython3",
   "version": "3.7.6"
  }
 },
 "nbformat": 4,
 "nbformat_minor": 4
}
